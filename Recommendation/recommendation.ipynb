{
 "cells": [
  {
   "cell_type": "code",
   "execution_count": 2,
   "metadata": {},
   "outputs": [],
   "source": [
    "import pandas as pd\n",
    "import numpy as np\n",
    "from sklearn.model_selection import train_test_split\n",
    "from sklearn.metrics.pairwise import cosine_similarity"
   ]
  },
  {
   "cell_type": "code",
   "execution_count": 3,
   "metadata": {},
   "outputs": [
    {
     "data": {
      "text/html": [
       "<div>\n",
       "<style scoped>\n",
       "    .dataframe tbody tr th:only-of-type {\n",
       "        vertical-align: middle;\n",
       "    }\n",
       "\n",
       "    .dataframe tbody tr th {\n",
       "        vertical-align: top;\n",
       "    }\n",
       "\n",
       "    .dataframe thead th {\n",
       "        text-align: right;\n",
       "    }\n",
       "</style>\n",
       "<table border=\"1\" class=\"dataframe\">\n",
       "  <thead>\n",
       "    <tr style=\"text-align: right;\">\n",
       "      <th></th>\n",
       "      <th>freelancer_id</th>\n",
       "      <th>service</th>\n",
       "      <th>project_name</th>\n",
       "      <th>client_rating</th>\n",
       "      <th>project_duration</th>\n",
       "      <th>earnings</th>\n",
       "    </tr>\n",
       "  </thead>\n",
       "  <tbody>\n",
       "    <tr>\n",
       "      <th>0</th>\n",
       "      <td>test@gmail.com</td>\n",
       "      <td>Frontend</td>\n",
       "      <td>FrontendProject1</td>\n",
       "      <td>4.5</td>\n",
       "      <td>6</td>\n",
       "      <td>1580</td>\n",
       "    </tr>\n",
       "    <tr>\n",
       "      <th>1</th>\n",
       "      <td>test@gmail.com</td>\n",
       "      <td>Docs</td>\n",
       "      <td>DocsProject2</td>\n",
       "      <td>4.0</td>\n",
       "      <td>4</td>\n",
       "      <td>404</td>\n",
       "    </tr>\n",
       "    <tr>\n",
       "      <th>2</th>\n",
       "      <td>test@gmail.com</td>\n",
       "      <td>Figma</td>\n",
       "      <td>FigmaProject3</td>\n",
       "      <td>4.4</td>\n",
       "      <td>1</td>\n",
       "      <td>1604</td>\n",
       "    </tr>\n",
       "    <tr>\n",
       "      <th>3</th>\n",
       "      <td>raghav@gmail.com</td>\n",
       "      <td>Frontend</td>\n",
       "      <td>FrontendProject4</td>\n",
       "      <td>4.1</td>\n",
       "      <td>3</td>\n",
       "      <td>2786</td>\n",
       "    </tr>\n",
       "    <tr>\n",
       "      <th>4</th>\n",
       "      <td>nishtha@gmail.com</td>\n",
       "      <td>Website</td>\n",
       "      <td>WebsiteProject5</td>\n",
       "      <td>4.1</td>\n",
       "      <td>5</td>\n",
       "      <td>2427</td>\n",
       "    </tr>\n",
       "    <tr>\n",
       "      <th>...</th>\n",
       "      <td>...</td>\n",
       "      <td>...</td>\n",
       "      <td>...</td>\n",
       "      <td>...</td>\n",
       "      <td>...</td>\n",
       "      <td>...</td>\n",
       "    </tr>\n",
       "    <tr>\n",
       "      <th>4995</th>\n",
       "      <td>test@gmail.com</td>\n",
       "      <td>Website</td>\n",
       "      <td>WebsiteProject4996</td>\n",
       "      <td>3.6</td>\n",
       "      <td>4</td>\n",
       "      <td>2611</td>\n",
       "    </tr>\n",
       "    <tr>\n",
       "      <th>4996</th>\n",
       "      <td>anushka@gmail.com</td>\n",
       "      <td>App</td>\n",
       "      <td>AppProject4997</td>\n",
       "      <td>4.4</td>\n",
       "      <td>6</td>\n",
       "      <td>4045</td>\n",
       "    </tr>\n",
       "    <tr>\n",
       "      <th>4997</th>\n",
       "      <td>raghav@gmail.com</td>\n",
       "      <td>Website</td>\n",
       "      <td>WebsiteProject4998</td>\n",
       "      <td>3.7</td>\n",
       "      <td>1</td>\n",
       "      <td>2371</td>\n",
       "    </tr>\n",
       "    <tr>\n",
       "      <th>4998</th>\n",
       "      <td>test@gmail.com</td>\n",
       "      <td>Website</td>\n",
       "      <td>WebsiteProject4999</td>\n",
       "      <td>4.4</td>\n",
       "      <td>4</td>\n",
       "      <td>1736</td>\n",
       "    </tr>\n",
       "    <tr>\n",
       "      <th>4999</th>\n",
       "      <td>test@gmail.com</td>\n",
       "      <td>Backend</td>\n",
       "      <td>BackendProject5000</td>\n",
       "      <td>4.7</td>\n",
       "      <td>4</td>\n",
       "      <td>2274</td>\n",
       "    </tr>\n",
       "  </tbody>\n",
       "</table>\n",
       "<p>5000 rows × 6 columns</p>\n",
       "</div>"
      ],
      "text/plain": [
       "          freelancer_id   service        project_name  client_rating  \\\n",
       "0        test@gmail.com  Frontend    FrontendProject1            4.5   \n",
       "1        test@gmail.com      Docs        DocsProject2            4.0   \n",
       "2        test@gmail.com     Figma       FigmaProject3            4.4   \n",
       "3      raghav@gmail.com  Frontend    FrontendProject4            4.1   \n",
       "4     nishtha@gmail.com   Website     WebsiteProject5            4.1   \n",
       "...                 ...       ...                 ...            ...   \n",
       "4995     test@gmail.com   Website  WebsiteProject4996            3.6   \n",
       "4996  anushka@gmail.com       App      AppProject4997            4.4   \n",
       "4997   raghav@gmail.com   Website  WebsiteProject4998            3.7   \n",
       "4998     test@gmail.com   Website  WebsiteProject4999            4.4   \n",
       "4999     test@gmail.com   Backend  BackendProject5000            4.7   \n",
       "\n",
       "      project_duration  earnings  \n",
       "0                    6      1580  \n",
       "1                    4       404  \n",
       "2                    1      1604  \n",
       "3                    3      2786  \n",
       "4                    5      2427  \n",
       "...                ...       ...  \n",
       "4995                 4      2611  \n",
       "4996                 6      4045  \n",
       "4997                 1      2371  \n",
       "4998                 4      1736  \n",
       "4999                 4      2274  \n",
       "\n",
       "[5000 rows x 6 columns]"
      ]
     },
     "execution_count": 3,
     "metadata": {},
     "output_type": "execute_result"
    }
   ],
   "source": [
    "data=pd.read_csv('freelancer_services.csv')\n",
    "data"
   ]
  },
  {
   "cell_type": "code",
   "execution_count": 4,
   "metadata": {},
   "outputs": [
    {
     "data": {
      "text/html": [
       "<div>\n",
       "<style scoped>\n",
       "    .dataframe tbody tr th:only-of-type {\n",
       "        vertical-align: middle;\n",
       "    }\n",
       "\n",
       "    .dataframe tbody tr th {\n",
       "        vertical-align: top;\n",
       "    }\n",
       "\n",
       "    .dataframe thead th {\n",
       "        text-align: right;\n",
       "    }\n",
       "</style>\n",
       "<table border=\"1\" class=\"dataframe\">\n",
       "  <thead>\n",
       "    <tr style=\"text-align: right;\">\n",
       "      <th></th>\n",
       "      <th>client_rating</th>\n",
       "      <th>project_duration</th>\n",
       "      <th>earnings</th>\n",
       "    </tr>\n",
       "  </thead>\n",
       "  <tbody>\n",
       "    <tr>\n",
       "      <th>count</th>\n",
       "      <td>5000.000000</td>\n",
       "      <td>5000.000000</td>\n",
       "      <td>5000.000000</td>\n",
       "    </tr>\n",
       "    <tr>\n",
       "      <th>mean</th>\n",
       "      <td>4.247160</td>\n",
       "      <td>3.528000</td>\n",
       "      <td>1780.043400</td>\n",
       "    </tr>\n",
       "    <tr>\n",
       "      <th>std</th>\n",
       "      <td>0.429032</td>\n",
       "      <td>1.714352</td>\n",
       "      <td>1175.629347</td>\n",
       "    </tr>\n",
       "    <tr>\n",
       "      <th>min</th>\n",
       "      <td>3.500000</td>\n",
       "      <td>1.000000</td>\n",
       "      <td>100.000000</td>\n",
       "    </tr>\n",
       "    <tr>\n",
       "      <th>25%</th>\n",
       "      <td>3.900000</td>\n",
       "      <td>2.000000</td>\n",
       "      <td>611.000000</td>\n",
       "    </tr>\n",
       "    <tr>\n",
       "      <th>50%</th>\n",
       "      <td>4.200000</td>\n",
       "      <td>4.000000</td>\n",
       "      <td>1771.000000</td>\n",
       "    </tr>\n",
       "    <tr>\n",
       "      <th>75%</th>\n",
       "      <td>4.600000</td>\n",
       "      <td>5.000000</td>\n",
       "      <td>2602.000000</td>\n",
       "    </tr>\n",
       "    <tr>\n",
       "      <th>max</th>\n",
       "      <td>5.000000</td>\n",
       "      <td>6.000000</td>\n",
       "      <td>4999.000000</td>\n",
       "    </tr>\n",
       "  </tbody>\n",
       "</table>\n",
       "</div>"
      ],
      "text/plain": [
       "       client_rating  project_duration     earnings\n",
       "count    5000.000000       5000.000000  5000.000000\n",
       "mean        4.247160          3.528000  1780.043400\n",
       "std         0.429032          1.714352  1175.629347\n",
       "min         3.500000          1.000000   100.000000\n",
       "25%         3.900000          2.000000   611.000000\n",
       "50%         4.200000          4.000000  1771.000000\n",
       "75%         4.600000          5.000000  2602.000000\n",
       "max         5.000000          6.000000  4999.000000"
      ]
     },
     "execution_count": 4,
     "metadata": {},
     "output_type": "execute_result"
    }
   ],
   "source": [
    "data.describe()"
   ]
  },
  {
   "cell_type": "code",
   "execution_count": 5,
   "metadata": {},
   "outputs": [
    {
     "name": "stdout",
     "output_type": "stream",
     "text": [
      "<class 'pandas.core.frame.DataFrame'>\n",
      "RangeIndex: 5000 entries, 0 to 4999\n",
      "Data columns (total 6 columns):\n",
      " #   Column            Non-Null Count  Dtype  \n",
      "---  ------            --------------  -----  \n",
      " 0   freelancer_id     5000 non-null   object \n",
      " 1   service           5000 non-null   object \n",
      " 2   project_name      5000 non-null   object \n",
      " 3   client_rating     5000 non-null   float64\n",
      " 4   project_duration  5000 non-null   int64  \n",
      " 5   earnings          5000 non-null   int64  \n",
      "dtypes: float64(1), int64(2), object(3)\n",
      "memory usage: 234.5+ KB\n"
     ]
    }
   ],
   "source": [
    "data.info()"
   ]
  },
  {
   "cell_type": "code",
   "execution_count": 6,
   "metadata": {},
   "outputs": [
    {
     "data": {
      "text/plain": [
       "freelancer_id       0\n",
       "service             0\n",
       "project_name        0\n",
       "client_rating       0\n",
       "project_duration    0\n",
       "earnings            0\n",
       "dtype: int64"
      ]
     },
     "execution_count": 6,
     "metadata": {},
     "output_type": "execute_result"
    }
   ],
   "source": [
    "data.isnull().sum()"
   ]
  },
  {
   "cell_type": "code",
   "execution_count": 7,
   "metadata": {},
   "outputs": [
    {
     "data": {
      "text/plain": [
       "Docs        752\n",
       "Backend     739\n",
       "Website     727\n",
       "App         707\n",
       "PPT         701\n",
       "Figma       699\n",
       "Frontend    675\n",
       "Name: service, dtype: int64"
      ]
     },
     "execution_count": 7,
     "metadata": {},
     "output_type": "execute_result"
    }
   ],
   "source": [
    "data['service'].value_counts()"
   ]
  },
  {
   "cell_type": "code",
   "execution_count": 8,
   "metadata": {},
   "outputs": [],
   "source": [
    "from sklearn.feature_extraction.text import TfidfVectorizer\n",
    "tfidf = TfidfVectorizer()"
   ]
  },
  {
   "cell_type": "code",
   "execution_count": 9,
   "metadata": {},
   "outputs": [],
   "source": [
    "service_matrix = tfidf.fit_transform(data['service'])\n"
   ]
  },
  {
   "cell_type": "code",
   "execution_count": 10,
   "metadata": {},
   "outputs": [
    {
     "data": {
      "text/plain": [
       "array([[1., 0., 0., ..., 0., 0., 0.],\n",
       "       [0., 1., 0., ..., 0., 0., 0.],\n",
       "       [0., 0., 1., ..., 0., 0., 0.],\n",
       "       ...,\n",
       "       [0., 0., 0., ..., 1., 1., 0.],\n",
       "       [0., 0., 0., ..., 1., 1., 0.],\n",
       "       [0., 0., 0., ..., 0., 0., 1.]])"
      ]
     },
     "execution_count": 10,
     "metadata": {},
     "output_type": "execute_result"
    }
   ],
   "source": [
    "cosine_sim = cosine_similarity(service_matrix,service_matrix)\n",
    "cosine_sim"
   ]
  },
  {
   "cell_type": "code",
   "execution_count": 13,
   "metadata": {},
   "outputs": [
    {
     "name": "stdout",
     "output_type": "stream",
     "text": [
      "[0. 0. 0. ... 0. 0. 0.]\n"
     ]
    },
    {
     "data": {
      "text/plain": [
       "['App',\n",
       " 'App',\n",
       " 'App',\n",
       " 'App',\n",
       " 'App',\n",
       " 'App',\n",
       " 'App',\n",
       " 'App',\n",
       " 'App',\n",
       " 'App',\n",
       " 'App',\n",
       " 'App',\n",
       " 'App',\n",
       " 'App',\n",
       " 'App']"
      ]
     },
     "execution_count": 13,
     "metadata": {},
     "output_type": "execute_result"
    }
   ],
   "source": [
    "# Calculate the similarity between completed services and all other services\n",
    "user_completed_service_index = data[data['freelancer_id'] == 'kaushik@gmail.com'].index[0]\n",
    "similarities = cosine_sim[user_completed_service_index]\n",
    "# print(user_completed_service_index)\n",
    "print(similarities)\n",
    "# Sort the services based on similarity scores\n",
    "sorted_indices = np.argsort(similarities)[::-1]\n",
    "\n",
    "# Filter out the completed services\n",
    "recommended_services = [data.iloc[i]['service'] for i in sorted_indices if i != user_completed_service_index]\n",
    "\n",
    "# Return the top recommended services\n",
    "top_recommended_services = recommended_services[:15]  # Change the number as per your requirement\n",
    "\n",
    "top_recommended_services\n"
   ]
  },
  {
   "cell_type": "code",
   "execution_count": null,
   "metadata": {},
   "outputs": [],
   "source": []
  },
  {
   "cell_type": "code",
   "execution_count": null,
   "metadata": {},
   "outputs": [],
   "source": []
  }
 ],
 "metadata": {
  "kernelspec": {
   "display_name": "Python 3",
   "language": "python",
   "name": "python3"
  },
  "language_info": {
   "codemirror_mode": {
    "name": "ipython",
    "version": 3
   },
   "file_extension": ".py",
   "mimetype": "text/x-python",
   "name": "python",
   "nbconvert_exporter": "python",
   "pygments_lexer": "ipython3",
   "version": "3.11.3"
  }
 },
 "nbformat": 4,
 "nbformat_minor": 2
}
