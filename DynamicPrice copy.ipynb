{
 "cells": [
  {
   "cell_type": "code",
   "execution_count": 62,
   "metadata": {},
   "outputs": [],
   "source": [
    "import sklearn\n",
    "import numpy as np\n",
    "import pandas as pd\n",
    "import matplotlib.pyplot as plt\n",
    "import seaborn as sns\n",
    "import os\n",
    "import sys\n",
    "from sklearn.model_selection import train_test_split"
   ]
  },
  {
   "cell_type": "code",
   "execution_count": 63,
   "metadata": {},
   "outputs": [
    {
     "data": {
      "text/html": [
       "<div>\n",
       "<style scoped>\n",
       "    .dataframe tbody tr th:only-of-type {\n",
       "        vertical-align: middle;\n",
       "    }\n",
       "\n",
       "    .dataframe tbody tr th {\n",
       "        vertical-align: top;\n",
       "    }\n",
       "\n",
       "    .dataframe thead th {\n",
       "        text-align: right;\n",
       "    }\n",
       "</style>\n",
       "<table border=\"1\" class=\"dataframe\">\n",
       "  <thead>\n",
       "    <tr style=\"text-align: right;\">\n",
       "      <th></th>\n",
       "      <th>username</th>\n",
       "      <th>service_provider_username</th>\n",
       "      <th>service</th>\n",
       "      <th>price</th>\n",
       "      <th>no_of_pages</th>\n",
       "      <th>topic</th>\n",
       "      <th>date</th>\n",
       "      <th>deadline</th>\n",
       "    </tr>\n",
       "  </thead>\n",
       "  <tbody>\n",
       "    <tr>\n",
       "      <th>0</th>\n",
       "      <td>user1</td>\n",
       "      <td>provider1</td>\n",
       "      <td>Backend</td>\n",
       "      <td>1000</td>\n",
       "      <td>4</td>\n",
       "      <td>Topic1</td>\n",
       "      <td>2024-02-19</td>\n",
       "      <td>2024-02-28</td>\n",
       "    </tr>\n",
       "    <tr>\n",
       "      <th>1</th>\n",
       "      <td>user2</td>\n",
       "      <td>provider2</td>\n",
       "      <td>PPT</td>\n",
       "      <td>350</td>\n",
       "      <td>16</td>\n",
       "      <td>Topic2</td>\n",
       "      <td>2024-02-05</td>\n",
       "      <td>2024-02-20</td>\n",
       "    </tr>\n",
       "    <tr>\n",
       "      <th>2</th>\n",
       "      <td>user3</td>\n",
       "      <td>provider3</td>\n",
       "      <td>Website</td>\n",
       "      <td>1750</td>\n",
       "      <td>7</td>\n",
       "      <td>Topic3</td>\n",
       "      <td>2024-02-14</td>\n",
       "      <td>2024-02-17</td>\n",
       "    </tr>\n",
       "    <tr>\n",
       "      <th>3</th>\n",
       "      <td>user4</td>\n",
       "      <td>provider4</td>\n",
       "      <td>CaseStudy</td>\n",
       "      <td>150</td>\n",
       "      <td>6</td>\n",
       "      <td>Topic4</td>\n",
       "      <td>2024-03-04</td>\n",
       "      <td>2024-03-19</td>\n",
       "    </tr>\n",
       "    <tr>\n",
       "      <th>4</th>\n",
       "      <td>user5</td>\n",
       "      <td>provider5</td>\n",
       "      <td>PPT</td>\n",
       "      <td>300</td>\n",
       "      <td>14</td>\n",
       "      <td>Topic5</td>\n",
       "      <td>2024-02-27</td>\n",
       "      <td>2024-03-03</td>\n",
       "    </tr>\n",
       "  </tbody>\n",
       "</table>\n",
       "</div>"
      ],
      "text/plain": [
       "  username service_provider_username    service  price  no_of_pages   topic  \\\n",
       "0    user1                 provider1    Backend   1000            4  Topic1   \n",
       "1    user2                 provider2        PPT    350           16  Topic2   \n",
       "2    user3                 provider3    Website   1750            7  Topic3   \n",
       "3    user4                 provider4  CaseStudy    150            6  Topic4   \n",
       "4    user5                 provider5        PPT    300           14  Topic5   \n",
       "\n",
       "         date    deadline  \n",
       "0  2024-02-19  2024-02-28  \n",
       "1  2024-02-05  2024-02-20  \n",
       "2  2024-02-14  2024-02-17  \n",
       "3  2024-03-04  2024-03-19  \n",
       "4  2024-02-27  2024-03-03  "
      ]
     },
     "execution_count": 63,
     "metadata": {},
     "output_type": "execute_result"
    }
   ],
   "source": [
    "file_path = './generated_dataset_new.csv'\n",
    "data = pd.read_csv(file_path)\n",
    "data.head()\n"
   ]
  },
  {
   "cell_type": "code",
   "execution_count": 64,
   "metadata": {},
   "outputs": [
    {
     "data": {
      "text/html": [
       "<div>\n",
       "<style scoped>\n",
       "    .dataframe tbody tr th:only-of-type {\n",
       "        vertical-align: middle;\n",
       "    }\n",
       "\n",
       "    .dataframe tbody tr th {\n",
       "        vertical-align: top;\n",
       "    }\n",
       "\n",
       "    .dataframe thead th {\n",
       "        text-align: right;\n",
       "    }\n",
       "</style>\n",
       "<table border=\"1\" class=\"dataframe\">\n",
       "  <thead>\n",
       "    <tr style=\"text-align: right;\">\n",
       "      <th></th>\n",
       "      <th>username</th>\n",
       "      <th>service_provider_username</th>\n",
       "      <th>service</th>\n",
       "      <th>price</th>\n",
       "      <th>no_of_pages</th>\n",
       "      <th>topic</th>\n",
       "      <th>date</th>\n",
       "      <th>deadline</th>\n",
       "    </tr>\n",
       "  </thead>\n",
       "  <tbody>\n",
       "    <tr>\n",
       "      <th>0</th>\n",
       "      <td>user1</td>\n",
       "      <td>provider1</td>\n",
       "      <td>Backend</td>\n",
       "      <td>1000</td>\n",
       "      <td>4</td>\n",
       "      <td>Topic1</td>\n",
       "      <td>2024-02-19</td>\n",
       "      <td>2024-02-28</td>\n",
       "    </tr>\n",
       "    <tr>\n",
       "      <th>1</th>\n",
       "      <td>user2</td>\n",
       "      <td>provider2</td>\n",
       "      <td>PPT</td>\n",
       "      <td>350</td>\n",
       "      <td>16</td>\n",
       "      <td>Topic2</td>\n",
       "      <td>2024-02-05</td>\n",
       "      <td>2024-02-20</td>\n",
       "    </tr>\n",
       "    <tr>\n",
       "      <th>2</th>\n",
       "      <td>user3</td>\n",
       "      <td>provider3</td>\n",
       "      <td>Website</td>\n",
       "      <td>1750</td>\n",
       "      <td>7</td>\n",
       "      <td>Topic3</td>\n",
       "      <td>2024-02-14</td>\n",
       "      <td>2024-02-17</td>\n",
       "    </tr>\n",
       "    <tr>\n",
       "      <th>3</th>\n",
       "      <td>user4</td>\n",
       "      <td>provider4</td>\n",
       "      <td>CaseStudy</td>\n",
       "      <td>150</td>\n",
       "      <td>6</td>\n",
       "      <td>Topic4</td>\n",
       "      <td>2024-03-04</td>\n",
       "      <td>2024-03-19</td>\n",
       "    </tr>\n",
       "    <tr>\n",
       "      <th>4</th>\n",
       "      <td>user5</td>\n",
       "      <td>provider5</td>\n",
       "      <td>PPT</td>\n",
       "      <td>300</td>\n",
       "      <td>14</td>\n",
       "      <td>Topic5</td>\n",
       "      <td>2024-02-27</td>\n",
       "      <td>2024-03-03</td>\n",
       "    </tr>\n",
       "  </tbody>\n",
       "</table>\n",
       "</div>"
      ],
      "text/plain": [
       "  username service_provider_username    service  price  no_of_pages   topic  \\\n",
       "0    user1                 provider1    Backend   1000            4  Topic1   \n",
       "1    user2                 provider2        PPT    350           16  Topic2   \n",
       "2    user3                 provider3    Website   1750            7  Topic3   \n",
       "3    user4                 provider4  CaseStudy    150            6  Topic4   \n",
       "4    user5                 provider5        PPT    300           14  Topic5   \n",
       "\n",
       "         date    deadline  \n",
       "0  2024-02-19  2024-02-28  \n",
       "1  2024-02-05  2024-02-20  \n",
       "2  2024-02-14  2024-02-17  \n",
       "3  2024-03-04  2024-03-19  \n",
       "4  2024-02-27  2024-03-03  "
      ]
     },
     "execution_count": 64,
     "metadata": {},
     "output_type": "execute_result"
    }
   ],
   "source": [
    "columns_to_keep = ['username', 'service_provider_username', 'service', 'price', 'no_of_pages', 'topic','date', 'deadline']\n",
    "data = data[columns_to_keep].dropna()\n",
    "data.head()\n",
    "\n"
   ]
  },
  {
   "cell_type": "code",
   "execution_count": 65,
   "metadata": {},
   "outputs": [
    {
     "data": {
      "text/html": [
       "<div>\n",
       "<style scoped>\n",
       "    .dataframe tbody tr th:only-of-type {\n",
       "        vertical-align: middle;\n",
       "    }\n",
       "\n",
       "    .dataframe tbody tr th {\n",
       "        vertical-align: top;\n",
       "    }\n",
       "\n",
       "    .dataframe thead th {\n",
       "        text-align: right;\n",
       "    }\n",
       "</style>\n",
       "<table border=\"1\" class=\"dataframe\">\n",
       "  <thead>\n",
       "    <tr style=\"text-align: right;\">\n",
       "      <th></th>\n",
       "      <th>no_of_pages</th>\n",
       "    </tr>\n",
       "  </thead>\n",
       "  <tbody>\n",
       "    <tr>\n",
       "      <th>count</th>\n",
       "      <td>10000.000000</td>\n",
       "    </tr>\n",
       "    <tr>\n",
       "      <th>mean</th>\n",
       "      <td>6.288800</td>\n",
       "    </tr>\n",
       "    <tr>\n",
       "      <th>std</th>\n",
       "      <td>3.969782</td>\n",
       "    </tr>\n",
       "    <tr>\n",
       "      <th>min</th>\n",
       "      <td>1.000000</td>\n",
       "    </tr>\n",
       "    <tr>\n",
       "      <th>25%</th>\n",
       "      <td>4.000000</td>\n",
       "    </tr>\n",
       "    <tr>\n",
       "      <th>50%</th>\n",
       "      <td>5.000000</td>\n",
       "    </tr>\n",
       "    <tr>\n",
       "      <th>75%</th>\n",
       "      <td>6.000000</td>\n",
       "    </tr>\n",
       "    <tr>\n",
       "      <th>max</th>\n",
       "      <td>20.000000</td>\n",
       "    </tr>\n",
       "  </tbody>\n",
       "</table>\n",
       "</div>"
      ],
      "text/plain": [
       "        no_of_pages\n",
       "count  10000.000000\n",
       "mean       6.288800\n",
       "std        3.969782\n",
       "min        1.000000\n",
       "25%        4.000000\n",
       "50%        5.000000\n",
       "75%        6.000000\n",
       "max       20.000000"
      ]
     },
     "execution_count": 65,
     "metadata": {},
     "output_type": "execute_result"
    }
   ],
   "source": [
    "y=data['price']\n",
    "features=['service','no_of_pages','date','deadline']\n",
    "X=data[features]\n",
    "X.describe()"
   ]
  },
  {
   "cell_type": "code",
   "execution_count": 66,
   "metadata": {},
   "outputs": [],
   "source": [
    "data['date'] = pd.to_datetime(data['date'])\n",
    "data['deadline'] = pd.to_datetime(data['deadline'])\n",
    "data['days']=data['deadline']-data['date']\n",
    "\n"
   ]
  },
  {
   "cell_type": "code",
   "execution_count": 67,
   "metadata": {},
   "outputs": [],
   "source": [
    "data.drop(['date','deadline'],axis=1,inplace=True)"
   ]
  },
  {
   "cell_type": "code",
   "execution_count": 68,
   "metadata": {},
   "outputs": [],
   "source": [
    "data.drop(['username','service_provider_username'],axis=1,inplace=True)"
   ]
  },
  {
   "cell_type": "code",
   "execution_count": 69,
   "metadata": {},
   "outputs": [
    {
     "data": {
      "text/html": [
       "<div>\n",
       "<style scoped>\n",
       "    .dataframe tbody tr th:only-of-type {\n",
       "        vertical-align: middle;\n",
       "    }\n",
       "\n",
       "    .dataframe tbody tr th {\n",
       "        vertical-align: top;\n",
       "    }\n",
       "\n",
       "    .dataframe thead th {\n",
       "        text-align: right;\n",
       "    }\n",
       "</style>\n",
       "<table border=\"1\" class=\"dataframe\">\n",
       "  <thead>\n",
       "    <tr style=\"text-align: right;\">\n",
       "      <th></th>\n",
       "      <th>service</th>\n",
       "      <th>price</th>\n",
       "      <th>no_of_pages</th>\n",
       "      <th>topic</th>\n",
       "      <th>days</th>\n",
       "    </tr>\n",
       "  </thead>\n",
       "  <tbody>\n",
       "    <tr>\n",
       "      <th>0</th>\n",
       "      <td>Backend</td>\n",
       "      <td>1000</td>\n",
       "      <td>4</td>\n",
       "      <td>Topic1</td>\n",
       "      <td>9</td>\n",
       "    </tr>\n",
       "    <tr>\n",
       "      <th>1</th>\n",
       "      <td>PPT</td>\n",
       "      <td>350</td>\n",
       "      <td>16</td>\n",
       "      <td>Topic2</td>\n",
       "      <td>15</td>\n",
       "    </tr>\n",
       "    <tr>\n",
       "      <th>2</th>\n",
       "      <td>Website</td>\n",
       "      <td>1750</td>\n",
       "      <td>7</td>\n",
       "      <td>Topic3</td>\n",
       "      <td>3</td>\n",
       "    </tr>\n",
       "    <tr>\n",
       "      <th>3</th>\n",
       "      <td>CaseStudy</td>\n",
       "      <td>150</td>\n",
       "      <td>6</td>\n",
       "      <td>Topic4</td>\n",
       "      <td>15</td>\n",
       "    </tr>\n",
       "    <tr>\n",
       "      <th>4</th>\n",
       "      <td>PPT</td>\n",
       "      <td>300</td>\n",
       "      <td>14</td>\n",
       "      <td>Topic5</td>\n",
       "      <td>5</td>\n",
       "    </tr>\n",
       "  </tbody>\n",
       "</table>\n",
       "</div>"
      ],
      "text/plain": [
       "     service  price  no_of_pages   topic  days\n",
       "0    Backend   1000            4  Topic1     9\n",
       "1        PPT    350           16  Topic2    15\n",
       "2    Website   1750            7  Topic3     3\n",
       "3  CaseStudy    150            6  Topic4    15\n",
       "4        PPT    300           14  Topic5     5"
      ]
     },
     "execution_count": 69,
     "metadata": {},
     "output_type": "execute_result"
    }
   ],
   "source": [
    "data['days']=data['days'].dt.days\n",
    "data.head()\n"
   ]
  },
  {
   "cell_type": "code",
   "execution_count": 70,
   "metadata": {},
   "outputs": [],
   "source": [
    "data.drop(['topic'],axis=1,inplace=True)"
   ]
  },
  {
   "cell_type": "code",
   "execution_count": 71,
   "metadata": {},
   "outputs": [
    {
     "data": {
      "text/html": [
       "<div>\n",
       "<style scoped>\n",
       "    .dataframe tbody tr th:only-of-type {\n",
       "        vertical-align: middle;\n",
       "    }\n",
       "\n",
       "    .dataframe tbody tr th {\n",
       "        vertical-align: top;\n",
       "    }\n",
       "\n",
       "    .dataframe thead th {\n",
       "        text-align: right;\n",
       "    }\n",
       "</style>\n",
       "<table border=\"1\" class=\"dataframe\">\n",
       "  <thead>\n",
       "    <tr style=\"text-align: right;\">\n",
       "      <th></th>\n",
       "      <th>service</th>\n",
       "      <th>price</th>\n",
       "      <th>no_of_pages</th>\n",
       "      <th>days</th>\n",
       "    </tr>\n",
       "  </thead>\n",
       "  <tbody>\n",
       "    <tr>\n",
       "      <th>0</th>\n",
       "      <td>Backend</td>\n",
       "      <td>1000</td>\n",
       "      <td>4</td>\n",
       "      <td>9</td>\n",
       "    </tr>\n",
       "    <tr>\n",
       "      <th>1</th>\n",
       "      <td>PPT</td>\n",
       "      <td>350</td>\n",
       "      <td>16</td>\n",
       "      <td>15</td>\n",
       "    </tr>\n",
       "    <tr>\n",
       "      <th>2</th>\n",
       "      <td>Website</td>\n",
       "      <td>1750</td>\n",
       "      <td>7</td>\n",
       "      <td>3</td>\n",
       "    </tr>\n",
       "    <tr>\n",
       "      <th>3</th>\n",
       "      <td>CaseStudy</td>\n",
       "      <td>150</td>\n",
       "      <td>6</td>\n",
       "      <td>15</td>\n",
       "    </tr>\n",
       "    <tr>\n",
       "      <th>4</th>\n",
       "      <td>PPT</td>\n",
       "      <td>300</td>\n",
       "      <td>14</td>\n",
       "      <td>5</td>\n",
       "    </tr>\n",
       "    <tr>\n",
       "      <th>...</th>\n",
       "      <td>...</td>\n",
       "      <td>...</td>\n",
       "      <td>...</td>\n",
       "      <td>...</td>\n",
       "    </tr>\n",
       "    <tr>\n",
       "      <th>9995</th>\n",
       "      <td>PPT</td>\n",
       "      <td>200</td>\n",
       "      <td>10</td>\n",
       "      <td>11</td>\n",
       "    </tr>\n",
       "    <tr>\n",
       "      <th>9996</th>\n",
       "      <td>CaseStudy</td>\n",
       "      <td>150</td>\n",
       "      <td>6</td>\n",
       "      <td>2</td>\n",
       "    </tr>\n",
       "    <tr>\n",
       "      <th>9997</th>\n",
       "      <td>Docs</td>\n",
       "      <td>375</td>\n",
       "      <td>19</td>\n",
       "      <td>6</td>\n",
       "    </tr>\n",
       "    <tr>\n",
       "      <th>9998</th>\n",
       "      <td>Frontend</td>\n",
       "      <td>1150</td>\n",
       "      <td>4</td>\n",
       "      <td>4</td>\n",
       "    </tr>\n",
       "    <tr>\n",
       "      <th>9999</th>\n",
       "      <td>Frontend</td>\n",
       "      <td>1300</td>\n",
       "      <td>4</td>\n",
       "      <td>1</td>\n",
       "    </tr>\n",
       "  </tbody>\n",
       "</table>\n",
       "<p>10000 rows × 4 columns</p>\n",
       "</div>"
      ],
      "text/plain": [
       "        service  price  no_of_pages  days\n",
       "0       Backend   1000            4     9\n",
       "1           PPT    350           16    15\n",
       "2       Website   1750            7     3\n",
       "3     CaseStudy    150            6    15\n",
       "4           PPT    300           14     5\n",
       "...         ...    ...          ...   ...\n",
       "9995        PPT    200           10    11\n",
       "9996  CaseStudy    150            6     2\n",
       "9997       Docs    375           19     6\n",
       "9998   Frontend   1150            4     4\n",
       "9999   Frontend   1300            4     1\n",
       "\n",
       "[10000 rows x 4 columns]"
      ]
     },
     "execution_count": 71,
     "metadata": {},
     "output_type": "execute_result"
    }
   ],
   "source": [
    "data"
   ]
  },
  {
   "cell_type": "code",
   "execution_count": 72,
   "metadata": {},
   "outputs": [
    {
     "name": "stdout",
     "output_type": "stream",
     "text": [
      "      service  no_of_pages  days\n",
      "8767      7.0            3     7\n",
      "3134      2.0            6    15\n",
      "2557      6.0           12    11\n",
      "7878      7.0            4    14\n",
      "4206      0.0            5    10\n",
      "...       ...          ...   ...\n",
      "972       6.0            6     6\n",
      "7523      4.0            5    14\n",
      "8510      5.0            4     2\n",
      "3063      3.0           16    10\n",
      "6865      2.0            6     1\n",
      "\n",
      "[8000 rows x 3 columns]\n",
      "      service  no_of_pages  days\n",
      "317       1.0            4     2\n",
      "5477      0.0            3     6\n",
      "4068      0.0            3    14\n",
      "279       3.0           13    12\n",
      "2238      7.0            5     1\n",
      "...       ...          ...   ...\n",
      "4298      2.0            6    13\n",
      "4093      7.0            3    11\n",
      "6079      1.0            4     1\n",
      "6126      0.0            4     6\n",
      "5443      2.0            6     9\n",
      "\n",
      "[2000 rows x 3 columns]\n"
     ]
    }
   ],
   "source": [
    "from sklearn.preprocessing import OrdinalEncoder\n",
    "from sklearn.ensemble import RandomForestRegressor\n",
    "y=data['price']\n",
    "features=['service','no_of_pages','days']\n",
    "X=data[features]\n",
    "X.describe()\n",
    "OrdinalEncoder=OrdinalEncoder()\n",
    "from sklearn.model_selection import train_test_split\n",
    "X_train,X_test,y_train,y_test=train_test_split(X,y,test_size=0.2)\n",
    "\n",
    "lable_X_train=X_train.copy()\n",
    "lable_X_test=X_test.copy()\n",
    "\n",
    "lable_X_train[['service']]=OrdinalEncoder.fit_transform(X_train[['service']])\n",
    "lable_X_test[['service']]=OrdinalEncoder.transform(X_test[['service']])\n",
    "\n",
    "model=RandomForestRegressor(n_estimators=100,random_state=0)\n",
    "print(lable_X_train)\n",
    "print(lable_X_test)\n"
   ]
  },
  {
   "cell_type": "code",
   "execution_count": 73,
   "metadata": {},
   "outputs": [],
   "source": [
    "from sklearn.metrics import mean_absolute_error\n",
    "def get_score(model,X_train,X_test,y_train,y_test):\n",
    "    model.fit(X_train,y_train)\n",
    "    preds=model.predict(X_test)\n",
    "    return mean_absolute_error(y_test,preds)    "
   ]
  },
  {
   "cell_type": "code",
   "execution_count": 74,
   "metadata": {},
   "outputs": [
    {
     "data": {
      "text/plain": [
       "0.456375"
      ]
     },
     "execution_count": 74,
     "metadata": {},
     "output_type": "execute_result"
    }
   ],
   "source": [
    "get_score(model,lable_X_train,lable_X_test,y_train,y_test)"
   ]
  },
  {
   "cell_type": "code",
   "execution_count": 75,
   "metadata": {},
   "outputs": [
    {
     "data": {
      "text/plain": [
       "86.19671875"
      ]
     },
     "execution_count": 75,
     "metadata": {},
     "output_type": "execute_result"
    }
   ],
   "source": [
    "from sklearn.metrics import mean_squared_error\n",
    "model.fit(lable_X_train,y_train)\n",
    "preds=model.predict(lable_X_test)\n",
    "\n",
    "accuracy=mean_squared_error(y_test,preds)\n",
    "accuracy"
   ]
  },
  {
   "cell_type": "code",
   "execution_count": 76,
   "metadata": {},
   "outputs": [
    {
     "data": {
      "text/plain": [
       "0.9998230308639477"
      ]
     },
     "execution_count": 76,
     "metadata": {},
     "output_type": "execute_result"
    }
   ],
   "source": [
    "from sklearn.metrics import r2_score\n",
    "r2=r2_score(y_test,preds)\n",
    "r2"
   ]
  },
  {
   "cell_type": "code",
   "execution_count": 80,
   "metadata": {},
   "outputs": [
    {
     "name": "stdout",
     "output_type": "stream",
     "text": [
      "Predicted Price: 1650.0\n"
     ]
    },
    {
     "name": "stderr",
     "output_type": "stream",
     "text": [
      "d:\\Python\\Lib\\site-packages\\sklearn\\base.py:420: UserWarning: X does not have valid feature names, but RandomForestRegressor was fitted with feature names\n",
      "  warnings.warn(\n"
     ]
    }
   ],
   "source": [
    "\n",
    "new_data = {\n",
    "    \"service\":7,\n",
    "    \"no_of_pages\":8,\n",
    "    \"days\":5,\n",
    "}\n",
    "\n",
    "input_data_as_numpy_array = np.array([\n",
    "    new_data[\"service\"],new_data[\"no_of_pages\"], new_data[\"days\"]\n",
    "]).reshape(1, -1)\n",
    "\n",
    "prediction = model.predict(input_data_as_numpy_array)\n",
    "print(\"Predicted Price:\", prediction[0])\n"
   ]
  },
  {
   "cell_type": "code",
   "execution_count": 108,
   "metadata": {},
   "outputs": [
    {
     "name": "stdout",
     "output_type": "stream",
     "text": [
      "Original Decoded Values:\n",
      "Service: Website\n",
      "No. of Pages: 7\n",
      "Days: 3\n",
      "Predicted Price: 1750.0\n"
     ]
    },
    {
     "name": "stderr",
     "output_type": "stream",
     "text": [
      "d:\\Python\\Lib\\site-packages\\sklearn\\base.py:420: UserWarning: X does not have valid feature names, but RandomForestRegressor was fitted with feature names\n",
      "  warnings.warn(\n"
     ]
    }
   ],
   "source": [
    "\n",
    "new_data = {\n",
    "    \"service\":7,\n",
    "    \"no_of_pages\":7,\n",
    "    \"days\":3,\n",
    "}\n",
    "input_data_as_numpy_array = np.array([\n",
    "    new_data[\"service\"], new_data[\"no_of_pages\"], new_data[\"days\"]\n",
    "]).reshape(1, -1)\n",
    "\n",
    "prediction = model.predict(input_data_as_numpy_array)\n",
    "\n",
    "decoded_service_value = OrdinalEncoder.inverse_transform([[new_data[\"service\"]]])[0][0] if new_data[\"service\"] < len(OrdinalEncoder.categories_[0]) else None\n",
    "\n",
    "print(\"Original Decoded Values:\")\n",
    "print(\"Service:\", decoded_service_value)\n",
    "print(\"No. of Pages:\", new_data[\"no_of_pages\"])\n",
    "print(\"Days:\", new_data[\"days\"])\n",
    "print(\"Predicted Price:\", prediction[0])\n"
   ]
  },
  {
   "cell_type": "code",
   "execution_count": 109,
   "metadata": {},
   "outputs": [],
   "source": [
    "# Mapping the service values to their original values\n",
    "# 0 -> App\n",
    "# 1 -> Backend\n",
    "# 2 -> Case Study\n",
    "# 3 -> Docs\n",
    "# 4 -> Figma\n",
    "# 5 -> Frontend\n",
    "# 6 -> PPT\n",
    "# 7 -> Website"
   ]
  },
  {
   "cell_type": "code",
   "execution_count": 110,
   "metadata": {},
   "outputs": [
    {
     "name": "stdout",
     "output_type": "stream",
     "text": [
      "Linear Regression Mean Squared Error: 405465.81141072593\n",
      "Linear Regression Predicted Price: 769.6028009682424\n"
     ]
    },
    {
     "name": "stderr",
     "output_type": "stream",
     "text": [
      "d:\\Python\\Lib\\site-packages\\sklearn\\base.py:420: UserWarning: X does not have valid feature names, but LinearRegression was fitted with feature names\n",
      "  warnings.warn(\n"
     ]
    }
   ],
   "source": [
    "import sklearn\n",
    "import numpy as np\n",
    "import pandas as pd\n",
    "import matplotlib.pyplot as plt\n",
    "import seaborn as sns\n",
    "import os\n",
    "import sys\n",
    "from sklearn.model_selection import train_test_split\n",
    "from sklearn.preprocessing import OrdinalEncoder\n",
    "from sklearn.linear_model import LinearRegression\n",
    "from sklearn.metrics import mean_squared_error\n",
    "\n",
    "# Load and preprocess data\n",
    "file_path = './generated_dataset_new.csv'\n",
    "data = pd.read_csv(file_path)\n",
    "columns_to_keep = ['username', 'service_provider_username', 'service', 'price', 'no_of_pages', 'topic', 'date', 'deadline']\n",
    "data = data[columns_to_keep].dropna()\n",
    "y = data['price']\n",
    "data['date'] = pd.to_datetime(data['date'])\n",
    "data['deadline'] = pd.to_datetime(data['deadline'])\n",
    "data['days'] = (data['deadline'] - data['date']).dt.days\n",
    "data.drop(['date', 'deadline', 'topic'], axis=1, inplace=True)\n",
    "\n",
    "# Feature selection\n",
    "features = ['service', 'no_of_pages', 'days']\n",
    "X = data[features]\n",
    "\n",
    "# Split the data into training and testing sets\n",
    "X_train, X_test, y_train, y_test = train_test_split(X, y, test_size=0.2)\n",
    "\n",
    "# Encode 'service' using OrdinalEncoder\n",
    "ordinal_encoder = OrdinalEncoder()\n",
    "X_train[['service']] = ordinal_encoder.fit_transform(X_train[['service']])\n",
    "X_test[['service']] = ordinal_encoder.transform(X_test[['service']])\n",
    "\n",
    "# Train a linear regression model\n",
    "linear_model = LinearRegression()\n",
    "linear_model.fit(X_train, y_train)\n",
    "\n",
    "# Make predictions on the test set\n",
    "linear_preds = linear_model.predict(X_test)\n",
    "\n",
    "# Calculate mean squared error\n",
    "linear_accuracy = mean_squared_error(y_test, linear_preds)\n",
    "print(\"Linear Regression Mean Squared Error:\", linear_accuracy)\n",
    "\n",
    "# Make a prediction for the new data\n",
    "input_data_as_numpy_array = np.array([new_data[\"service\"], new_data[\"no_of_pages\"], new_data[\"days\"]]).reshape(1, -1)\n",
    "linear_prediction = linear_model.predict(input_data_as_numpy_array)\n",
    "print(\"Linear Regression Predicted Price:\", linear_prediction[0])\n"
   ]
  },
  {
   "cell_type": "code",
   "execution_count": 113,
   "metadata": {},
   "outputs": [
    {
     "name": "stdout",
     "output_type": "stream",
     "text": [
      "Random Forest Predicted Price: 1750.0\n",
      "Linear Regression Predicted Price: 769.6028009682424\n"
     ]
    },
    {
     "name": "stderr",
     "output_type": "stream",
     "text": [
      "d:\\Python\\Lib\\site-packages\\sklearn\\base.py:420: UserWarning: X does not have valid feature names, but RandomForestRegressor was fitted with feature names\n",
      "  warnings.warn(\n",
      "d:\\Python\\Lib\\site-packages\\sklearn\\base.py:420: UserWarning: X does not have valid feature names, but LinearRegression was fitted with feature names\n",
      "  warnings.warn(\n"
     ]
    }
   ],
   "source": [
    "# Input values for prediction\n",
    "new_data = {\n",
    "    \"service\": 7,\n",
    "    \"no_of_pages\": 7,\n",
    "    \"days\": 3,\n",
    "}\n",
    "\n",
    "# Convert input data to a numpy array\n",
    "input_data_as_numpy_array = np.array([\n",
    "    new_data[\"service\"], new_data[\"no_of_pages\"], new_data[\"days\"]\n",
    "]).reshape(1, -1)\n",
    "\n",
    "# Predictions using RandomForestRegressor\n",
    "rf_prediction = model.predict(input_data_as_numpy_array)\n",
    "print(\"Random Forest Predicted Price:\", rf_prediction[0])\n",
    "\n",
    "# Predictions using LinearRegression\n",
    "linear_prediction = linear_model.predict(input_data_as_numpy_array)\n",
    "print(\"Linear Regression Predicted Price:\", linear_prediction[0])\n"
   ]
  },
  {
   "cell_type": "code",
   "execution_count": null,
   "metadata": {},
   "outputs": [],
   "source": []
  }
 ],
 "metadata": {
  "kernelspec": {
   "display_name": "Python 3",
   "language": "python",
   "name": "python3"
  },
  "language_info": {
   "codemirror_mode": {
    "name": "ipython",
    "version": 3
   },
   "file_extension": ".py",
   "mimetype": "text/x-python",
   "name": "python",
   "nbconvert_exporter": "python",
   "pygments_lexer": "ipython3",
   "version": "3.11.3"
  }
 },
 "nbformat": 4,
 "nbformat_minor": 2
}
