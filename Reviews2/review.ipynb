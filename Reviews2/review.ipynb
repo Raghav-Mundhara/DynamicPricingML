{
 "cells": [
  {
   "cell_type": "code",
   "execution_count": 2,
   "metadata": {},
   "outputs": [],
   "source": [
    "import pandas as pd\n",
    "import numpy as np\n",
    "import matplotlib.pyplot as plt\n"
   ]
  },
  {
   "cell_type": "code",
   "execution_count": 3,
   "metadata": {},
   "outputs": [
    {
     "data": {
      "text/html": [
       "<div>\n",
       "<style scoped>\n",
       "    .dataframe tbody tr th:only-of-type {\n",
       "        vertical-align: middle;\n",
       "    }\n",
       "\n",
       "    .dataframe tbody tr th {\n",
       "        vertical-align: top;\n",
       "    }\n",
       "\n",
       "    .dataframe thead th {\n",
       "        text-align: right;\n",
       "    }\n",
       "</style>\n",
       "<table border=\"1\" class=\"dataframe\">\n",
       "  <thead>\n",
       "    <tr style=\"text-align: right;\">\n",
       "      <th></th>\n",
       "      <th>client_email</th>\n",
       "      <th>freelancer_email</th>\n",
       "      <th>service</th>\n",
       "      <th>project_name</th>\n",
       "      <th>review</th>\n",
       "      <th>sentiment</th>\n",
       "      <th>rating</th>\n",
       "    </tr>\n",
       "  </thead>\n",
       "  <tbody>\n",
       "    <tr>\n",
       "      <th>0</th>\n",
       "      <td>nishtha@gmail.com</td>\n",
       "      <td>kaushik@gmail.com</td>\n",
       "      <td>ppt</td>\n",
       "      <td>Project 0</td>\n",
       "      <td>The ppt developed by kaushik@gmail.com had sev...</td>\n",
       "      <td>Positive</td>\n",
       "      <td>5</td>\n",
       "    </tr>\n",
       "    <tr>\n",
       "      <th>1</th>\n",
       "      <td>test@gmail.com</td>\n",
       "      <td>anushka@gmail.com</td>\n",
       "      <td>figma</td>\n",
       "      <td>Project 1</td>\n",
       "      <td>I appreciate the effort put into the figma pro...</td>\n",
       "      <td>Neutral</td>\n",
       "      <td>3</td>\n",
       "    </tr>\n",
       "    <tr>\n",
       "      <th>2</th>\n",
       "      <td>anushka@gmail.com</td>\n",
       "      <td>nishtha@gmail.com</td>\n",
       "      <td>website</td>\n",
       "      <td>Project 2</td>\n",
       "      <td>I'm indifferent about the website project prov...</td>\n",
       "      <td>Negative</td>\n",
       "      <td>1</td>\n",
       "    </tr>\n",
       "    <tr>\n",
       "      <th>3</th>\n",
       "      <td>kaushik@gmail.com</td>\n",
       "      <td>nishtha@gmail.com</td>\n",
       "      <td>backend</td>\n",
       "      <td>Project 3</td>\n",
       "      <td>The backend work done by nishtha@gmail.com sur...</td>\n",
       "      <td>Neutral</td>\n",
       "      <td>3</td>\n",
       "    </tr>\n",
       "    <tr>\n",
       "      <th>4</th>\n",
       "      <td>nishtha@gmail.com</td>\n",
       "      <td>test@gmail.com</td>\n",
       "      <td>backend</td>\n",
       "      <td>Project 4</td>\n",
       "      <td>The backend provided by test@gmail.com was sat...</td>\n",
       "      <td>Neutral</td>\n",
       "      <td>3</td>\n",
       "    </tr>\n",
       "    <tr>\n",
       "      <th>...</th>\n",
       "      <td>...</td>\n",
       "      <td>...</td>\n",
       "      <td>...</td>\n",
       "      <td>...</td>\n",
       "      <td>...</td>\n",
       "      <td>...</td>\n",
       "      <td>...</td>\n",
       "    </tr>\n",
       "    <tr>\n",
       "      <th>995</th>\n",
       "      <td>nishtha@gmail.com</td>\n",
       "      <td>kaushik@gmail.com</td>\n",
       "      <td>figma</td>\n",
       "      <td>Project 995</td>\n",
       "      <td>The figma provided by kaushik@gmail.com was pr...</td>\n",
       "      <td>Neutral</td>\n",
       "      <td>3</td>\n",
       "    </tr>\n",
       "    <tr>\n",
       "      <th>996</th>\n",
       "      <td>raghav@gmail.com</td>\n",
       "      <td>kaushik@gmail.com</td>\n",
       "      <td>website</td>\n",
       "      <td>Project 996</td>\n",
       "      <td>The website provided by kaushik@gmail.com was ...</td>\n",
       "      <td>Neutral</td>\n",
       "      <td>3</td>\n",
       "    </tr>\n",
       "    <tr>\n",
       "      <th>997</th>\n",
       "      <td>anushka@gmail.com</td>\n",
       "      <td>raghav@gmail.com</td>\n",
       "      <td>frontend</td>\n",
       "      <td>Project 997</td>\n",
       "      <td>raghav@gmail.com provided an okay frontend pro...</td>\n",
       "      <td>Neutral</td>\n",
       "      <td>3</td>\n",
       "    </tr>\n",
       "    <tr>\n",
       "      <th>998</th>\n",
       "      <td>raghav@gmail.com</td>\n",
       "      <td>test@gmail.com</td>\n",
       "      <td>ppt</td>\n",
       "      <td>Project 998</td>\n",
       "      <td>The ppt work done by test@gmail.com was except...</td>\n",
       "      <td>Neutral</td>\n",
       "      <td>3</td>\n",
       "    </tr>\n",
       "    <tr>\n",
       "      <th>999</th>\n",
       "      <td>raghav@gmail.com</td>\n",
       "      <td>nishtha@gmail.com</td>\n",
       "      <td>frontend</td>\n",
       "      <td>Project 999</td>\n",
       "      <td>The frontend developed by nishtha@gmail.com ex...</td>\n",
       "      <td>Positive</td>\n",
       "      <td>4</td>\n",
       "    </tr>\n",
       "  </tbody>\n",
       "</table>\n",
       "<p>1000 rows × 7 columns</p>\n",
       "</div>"
      ],
      "text/plain": [
       "          client_email   freelancer_email   service project_name  \\\n",
       "0    nishtha@gmail.com  kaushik@gmail.com       ppt    Project 0   \n",
       "1       test@gmail.com  anushka@gmail.com     figma    Project 1   \n",
       "2    anushka@gmail.com  nishtha@gmail.com   website    Project 2   \n",
       "3    kaushik@gmail.com  nishtha@gmail.com   backend    Project 3   \n",
       "4    nishtha@gmail.com     test@gmail.com   backend    Project 4   \n",
       "..                 ...                ...       ...          ...   \n",
       "995  nishtha@gmail.com  kaushik@gmail.com     figma  Project 995   \n",
       "996   raghav@gmail.com  kaushik@gmail.com   website  Project 996   \n",
       "997  anushka@gmail.com   raghav@gmail.com  frontend  Project 997   \n",
       "998   raghav@gmail.com     test@gmail.com       ppt  Project 998   \n",
       "999   raghav@gmail.com  nishtha@gmail.com  frontend  Project 999   \n",
       "\n",
       "                                                review sentiment  rating  \n",
       "0    The ppt developed by kaushik@gmail.com had sev...  Positive       5  \n",
       "1    I appreciate the effort put into the figma pro...   Neutral       3  \n",
       "2    I'm indifferent about the website project prov...  Negative       1  \n",
       "3    The backend work done by nishtha@gmail.com sur...   Neutral       3  \n",
       "4    The backend provided by test@gmail.com was sat...   Neutral       3  \n",
       "..                                                 ...       ...     ...  \n",
       "995  The figma provided by kaushik@gmail.com was pr...   Neutral       3  \n",
       "996  The website provided by kaushik@gmail.com was ...   Neutral       3  \n",
       "997  raghav@gmail.com provided an okay frontend pro...   Neutral       3  \n",
       "998  The ppt work done by test@gmail.com was except...   Neutral       3  \n",
       "999  The frontend developed by nishtha@gmail.com ex...  Positive       4  \n",
       "\n",
       "[1000 rows x 7 columns]"
      ]
     },
     "execution_count": 3,
     "metadata": {},
     "output_type": "execute_result"
    }
   ],
   "source": [
    "data=pd.read_csv('data.csv')\n",
    "data"
   ]
  },
  {
   "cell_type": "code",
   "execution_count": 4,
   "metadata": {},
   "outputs": [
    {
     "data": {
      "text/plain": [
       "client_email        object\n",
       "freelancer_email    object\n",
       "service             object\n",
       "project_name        object\n",
       "review              object\n",
       "sentiment           object\n",
       "rating               int64\n",
       "dtype: object"
      ]
     },
     "execution_count": 4,
     "metadata": {},
     "output_type": "execute_result"
    }
   ],
   "source": [
    "data.dtypes"
   ]
  },
  {
   "cell_type": "code",
   "execution_count": 5,
   "metadata": {},
   "outputs": [
    {
     "data": {
      "text/plain": [
       "<Axes: >"
      ]
     },
     "execution_count": 5,
     "metadata": {},
     "output_type": "execute_result"
    },
    {
     "data": {
      "image/png": "[encoded data removed]",
      "text/plain": [
       "<Figure size 640x480 with 1 Axes>"
      ]
     },
     "metadata": {},
     "output_type": "display_data"
    }
   ],
   "source": [
    "data['rating'].hist()"
   ]
  },
  {
   "cell_type": "code",
   "execution_count": 6,
   "metadata": {},
   "outputs": [],
   "source": [
    "import nltk\n",
    "# nltk.download('vader_lexicon')"
   ]
  },
  {
   "cell_type": "code",
   "execution_count": 7,
   "metadata": {},
   "outputs": [],
   "source": [
    "from nltk.sentiment.vader import SentimentIntensityAnalyzer\n",
    "sentiment=SentimentIntensityAnalyzer()"
   ]
  },
  {
   "cell_type": "code",
   "execution_count": 8,
   "metadata": {},
   "outputs": [
    {
     "name": "stderr",
     "output_type": "stream",
     "text": [
      "C:\\Users\\Raghav\\AppData\\Local\\Temp\\ipykernel_26680\\1394315337.py:1: UserWarning: Pandas doesn't allow columns to be created via a new attribute name - see https://pandas.pydata.org/pandas-docs/stable/indexing.html#attribute-access\n",
      "  data.shuffled_index=np.random.permutation(data.index)\n"
     ]
    }
   ],
   "source": [
    "data.shuffled_index=np.random.permutation(data.index)\n",
    "data=data.reindex(data.shuffled_index)\n",
    "data\n",
    "sample_review=data['review'][0:100]\n"
   ]
  },
  {
   "cell_type": "code",
   "execution_count": null,
   "metadata": {},
   "outputs": [],
   "source": []
  },
  {
   "cell_type": "code",
   "execution_count": 9,
   "metadata": {},
   "outputs": [
    {
     "name": "stdout",
     "output_type": "stream",
     "text": [
      "kaushik@gmail.com provided an okay figma project. It was neither good nor bad.\n",
      "Negative\n",
      "test@gmail.com failed to deliver a satisfactory backend project. It was a waste of time and money.\n",
      "Neutral\n",
      "I'm very satisfied with the ppt created by kaushik@gmail.com. Excellent work!\n",
      "Positive\n",
      "The figma work done by anushka@gmail.com surpassed my expectations. Highly impressed!\n",
      "Neutral\n",
      "I'm neutral about the backend project delivered by nishtha@gmail.com. It was neither exceptional nor disappointing.\n",
      "Negative\n",
      "The backend work done by test@gmail.com was subpar. I regret hiring them for this project.\n",
      "Negative\n",
      "I'm regretting hiring raghav@gmail.com for the backend project. The quality of work was poor.\n",
      "Neutral\n",
      "I have mixed feelings about the backend project provided by raghav@gmail.com. It was neither great nor terrible.\n",
      "Neutral\n",
      "The website work done by nishtha@gmail.com surpassed my expectations. Highly impressed!\n",
      "Neutral\n",
      "I'm indifferent about the ppt project provided by test@gmail.com. It neither impressed nor disappointed me.\n",
      "Neutral\n",
      "I have mixed feelings about the figma project provided by test@gmail.com. It was neither great nor terrible.\n",
      "Neutral\n",
      "I'm extremely disappointed with the ppt created by nishtha@gmail.com. It's not usable at all.\n",
      "Neutral\n",
      "The figma work done by nishtha@gmail.com was okay. It didn't exceed expectations, but it wasn't terrible either.\n",
      "Neutral\n",
      "I'm indifferent about the ppt project provided by kaushik@gmail.com. It neither impressed nor disappointed me.\n",
      "Neutral\n",
      "The ppt work done by raghav@gmail.com was exceptional. I'm impressed!\n",
      "Neutral\n",
      "The backend provided by anushka@gmail.com was professional and efficient. Thank you!\n",
      "Positive\n",
      "Unfortunately, the figma provided by nishtha@gmail.com did not meet my expectations. Disappointed.\n",
      "Neutral\n",
      "The app provided by kaushik@gmail.com was professional and efficient. Thank you!\n",
      "Positive\n",
      "The backend provided by nishtha@gmail.com was not up to standard. I won't be working with them again.\n",
      "Neutral\n",
      "The docs provided by kaushik@gmail.com was not up to standard. I won't be working with them again.\n",
      "Neutral\n",
      "anushka@gmail.com provided an okay figma project. It was neither good nor bad.\n",
      "Negative\n",
      "The app work done by kaushik@gmail.com surpassed my expectations. Highly impressed!\n",
      "Neutral\n",
      "The frontend work done by kaushik@gmail.com surpassed my expectations. Highly impressed!\n",
      "Neutral\n",
      "I'm unhappy with the ppt created by raghav@gmail.com. It wasn't what I expected.\n",
      "Neutral\n",
      "The app provided by raghav@gmail.com was top-notch. I'm very happy with the result.\n",
      "Neutral\n",
      "The website work done by nishtha@gmail.com was okay. It didn't exceed expectations, but it wasn't terrible either.\n",
      "Neutral\n",
      "The website provided by nishtha@gmail.com was top-notch. I'm very happy with the result.\n",
      "Neutral\n",
      "I'm very satisfied with the website created by kaushik@gmail.com. Excellent work!\n",
      "Positive\n",
      "I'm extremely satisfied with the frontend developed by test@gmail.com. Thank you so much!\n",
      "Neutral\n",
      "The backend created by nishtha@gmail.com was decent. It served its purpose adequately.\n",
      "Neutral\n",
      "I'm neutral about the app project delivered by anushka@gmail.com. It was neither exceptional nor disappointing.\n",
      "Negative\n",
      "website created by test@gmail.com is exactly what I wanted. Great job!\n",
      "Positive\n",
      "I'm extremely satisfied with the docs developed by test@gmail.com. Thank you so much!\n",
      "Neutral\n",
      "Unfortunately, the ppt provided by test@gmail.com did not meet my expectations. Disappointed.\n",
      "Neutral\n",
      "The app work done by raghav@gmail.com was exceptional. I'm impressed!\n",
      "Neutral\n",
      "ppt created by anushka@gmail.com is exactly what I wanted. Great job!\n",
      "Positive\n",
      "The figma developed by anushka@gmail.com had several issues and was delivered late. Not recommended.\n",
      "Neutral\n",
      "I'm regretting hiring nishtha@gmail.com for the ppt project. The quality of work was poor.\n",
      "Neutral\n",
      "I have mixed feelings about the docs project provided by raghav@gmail.com. It was neither great nor terrible.\n",
      "Neutral\n",
      "The frontend provided by raghav@gmail.com was satisfactory. It met my requirements.\n",
      "Positive\n",
      "website created by nishtha@gmail.com is exactly what I wanted. Great job!\n",
      "Positive\n",
      "The ppt developed by kaushik@gmail.com had several issues and was delivered late. Not recommended.\n",
      "Neutral\n",
      "I'm neutral about the backend project delivered by anushka@gmail.com. It was neither exceptional nor disappointing.\n",
      "Negative\n",
      "The backend work done by raghav@gmail.com was exceptional. I'm impressed!\n",
      "Neutral\n",
      "The website created by kaushik@gmail.com was decent. It served its purpose adequately.\n",
      "Neutral\n",
      "I appreciate the effort put into the website project by nishtha@gmail.com. Well done!\n",
      "Neutral\n",
      "The ppt work done by anushka@gmail.com was subpar. I regret hiring them for this project.\n",
      "Negative\n",
      "The website developed by anushka@gmail.com had several issues and was delivered late. Not recommended.\n",
      "Neutral\n",
      "website created by anushka@gmail.com is exactly what I wanted. Great job!\n",
      "Positive\n",
      "I appreciate the effort put into the backend project by kaushik@gmail.com. Well done!\n",
      "Neutral\n",
      "The app provided by test@gmail.com was a complete disaster. I wouldn't recommend them to anyone.\n",
      "Negative\n",
      "I'm unhappy with the docs created by raghav@gmail.com. It wasn't what I expected.\n",
      "Neutral\n",
      "I'm extremely satisfied with the figma developed by raghav@gmail.com. Thank you so much!\n",
      "Neutral\n",
      "The website provided by test@gmail.com was satisfactory. It wasn't exceptional, but it got the job done.\n",
      "Neutral\n",
      "The ppt provided by anushka@gmail.com was not up to standard. I won't be working with them again.\n",
      "Neutral\n",
      "The app work done by test@gmail.com was subpar. I regret hiring them for this project.\n",
      "Negative\n",
      "The website work done by raghav@gmail.com was average. It could have been better.\n",
      "Positive\n",
      "The app developed by raghav@gmail.com was acceptable. It met the basic requirements.\n",
      "Positive\n",
      "The app work done by raghav@gmail.com surpassed my expectations. Highly impressed!\n",
      "Neutral\n",
      "The figma provided by kaushik@gmail.com was a complete disaster. I wouldn't recommend them to anyone.\n",
      "Negative\n",
      "The figma work done by anushka@gmail.com was exceptional. I'm impressed!\n",
      "Neutral\n",
      "The figma developed by nishtha@gmail.com exceeded my expectations. Highly recommended!\n",
      "Positive\n",
      "I appreciate the effort put into the figma project by anushka@gmail.com. Well done!\n",
      "Neutral\n",
      "I'm very satisfied with the frontend created by kaushik@gmail.com. Excellent work!\n",
      "Positive\n",
      "Unfortunately, the figma provided by test@gmail.com did not meet my expectations. Disappointed.\n",
      "Neutral\n",
      "Unfortunately, the website provided by test@gmail.com did not meet my expectations. Disappointed.\n",
      "Neutral\n",
      "The website provided by test@gmail.com was not up to standard. I won't be working with them again.\n",
      "Neutral\n",
      "I appreciate the effort put into the figma project by anushka@gmail.com. Well done!\n",
      "Neutral\n",
      "The ppt provided by nishtha@gmail.com was satisfactory. It wasn't exceptional, but it got the job done.\n",
      "Neutral\n",
      "The figma provided by anushka@gmail.com was satisfactory. It met my requirements.\n",
      "Positive\n",
      "The docs provided by raghav@gmail.com was top-notch. I'm very happy with the result.\n",
      "Neutral\n",
      "The backend developed by nishtha@gmail.com had several issues and was delivered late. Not recommended.\n",
      "Neutral\n",
      "I'm very satisfied with the ppt created by nishtha@gmail.com. Excellent work!\n",
      "Positive\n",
      "I'm extremely satisfied with the figma developed by test@gmail.com. Thank you so much!\n",
      "Neutral\n",
      "I'm neutral about the ppt project delivered by anushka@gmail.com. It was neither exceptional nor disappointing.\n",
      "Negative\n",
      "The ppt work done by nishtha@gmail.com was average. It could have been better.\n",
      "Positive\n",
      "The website provided by test@gmail.com was satisfactory. It wasn't exceptional, but it got the job done.\n",
      "Neutral\n",
      "The app work done by anushka@gmail.com was subpar. I regret hiring them for this project.\n",
      "Negative\n",
      "The app created by raghav@gmail.com was decent. It served its purpose adequately.\n",
      "Neutral\n",
      "kaushik@gmail.com provided an okay frontend project. It was neither good nor bad.\n",
      "Negative\n",
      "kaushik@gmail.com failed to deliver a satisfactory figma project. It was a waste of time and money.\n",
      "Neutral\n",
      "The figma provided by nishtha@gmail.com was satisfactory. It met my requirements.\n",
      "Positive\n",
      "I'm very satisfied with the figma created by anushka@gmail.com. Excellent work!\n",
      "Positive\n",
      "The app provided by raghav@gmail.com was not up to standard. I won't be working with them again.\n",
      "Neutral\n",
      "The website provided by nishtha@gmail.com was a complete disaster. I wouldn't recommend them to anyone.\n",
      "Negative\n",
      "app created by test@gmail.com is exactly what I wanted. Great job!\n",
      "Positive\n",
      "I appreciate the effort put into the app project by anushka@gmail.com. Well done!\n",
      "Neutral\n",
      "The ppt work done by anushka@gmail.com was subpar. I regret hiring them for this project.\n",
      "Negative\n",
      "I'm regretting hiring test@gmail.com for the ppt project. The quality of work was poor.\n",
      "Neutral\n",
      "The ppt work done by raghav@gmail.com was exceptional. I'm impressed!\n",
      "Neutral\n",
      "The frontend provided by anushka@gmail.com was top-notch. I'm very happy with the result.\n",
      "Neutral\n",
      "The figma provided by test@gmail.com was top-notch. I'm very happy with the result.\n",
      "Neutral\n",
      "The frontend developed by anushka@gmail.com had several issues and was delivered late. Not recommended.\n",
      "Neutral\n",
      "I'm extremely disappointed with the docs created by kaushik@gmail.com. It's not usable at all.\n",
      "Neutral\n",
      "The figma work done by test@gmail.com was exceptional. I'm impressed!\n",
      "Neutral\n",
      "The figma work done by nishtha@gmail.com was subpar. I regret hiring them for this project.\n",
      "Negative\n",
      "I'm delighted with the app project delivered by raghav@gmail.com. It's perfect!\n",
      "Positive\n",
      "The website work done by kaushik@gmail.com was average. It could have been better.\n",
      "Positive\n",
      "The backend provided by test@gmail.com was a complete disaster. I wouldn't recommend them to anyone.\n",
      "Negative\n",
      "The backend provided by kaushik@gmail.com was satisfactory. It met my requirements.\n",
      "Positive\n"
     ]
    }
   ],
   "source": [
    "for sentences in sample_review:\n",
    "    print(sentences)\n",
    "    res=sentiment.polarity_scores(sentences)\n",
    "    score=res['compound']\n",
    "    if score>0.5:\n",
    "        score=score*res['pos']\n",
    "    elif score<-0.5:\n",
    "        score=score*res['neg']\n",
    "    else:\n",
    "        score=score*res['neu']\n",
    "\n",
    "    if score>0.25:\n",
    "        print('Positive')\n",
    "    elif score<-0.25:\n",
    "        print('Negative')\n",
    "    else:  \n",
    "        print('Neutral')\n",
    "\n",
    "    # print(res)"
   ]
  },
  {
   "cell_type": "code",
   "execution_count": 10,
   "metadata": {},
   "outputs": [],
   "source": [
    "# nltk.download('all')"
   ]
  },
  {
   "cell_type": "code",
   "execution_count": 11,
   "metadata": {},
   "outputs": [],
   "source": [
    "from sklearn.feature_extraction.text import TfidfVectorizer\n",
    "from sklearn.model_selection import train_test_split\n",
    "from sklearn.linear_model import LogisticRegression\n",
    "from sklearn.metrics import accuracy_score\n",
    "import random"
   ]
  },
  {
   "cell_type": "code",
   "execution_count": 12,
   "metadata": {},
   "outputs": [
    {
     "name": "stdout",
     "output_type": "stream",
     "text": [
      "0.89\n"
     ]
    }
   ],
   "source": [
    "vectorizer=TfidfVectorizer()\n",
    "X=vectorizer.fit_transform(data['review'])\n",
    "y=data['rating']\n",
    "\n",
    "X_train,X_test,y_train,y_test=train_test_split(X,y,test_size=0.2,random_state=42)\n",
    "\n",
    "model=LogisticRegression()\n",
    "model.fit(X_train,y_train)\n",
    "\n",
    "y_pred=model.predict(X_test)\n",
    "accuracy=accuracy_score(y_test,y_pred)\n",
    "\n",
    "print(accuracy)"
   ]
  },
  {
   "cell_type": "code",
   "execution_count": 17,
   "metadata": {},
   "outputs": [
    {
     "name": "stdout",
     "output_type": "stream",
     "text": [
      "{'neg': 0.0, 'neu': 0.408, 'pos': 0.592, 'compound': 0.4404}\n",
      "The rating of the review is: 3\n"
     ]
    }
   ],
   "source": [
    "#Input \n",
    "review=input('Enter the review: ')\n",
    "from textblob import TextBlob \n",
    "blob = TextBlob(review)\n",
    "print(sentiment.polarity_scores(review))\n",
    "review=vectorizer.transform([review])\n",
    "rating=model.predict(review)\n",
    "print('The rating of the review is:',rating[0])\n"
   ]
  },
  {
   "cell_type": "code",
   "execution_count": 14,
   "metadata": {},
   "outputs": [
    {
     "name": "stdout",
     "output_type": "stream",
     "text": [
      "Accuracy: 0.848\n"
     ]
    }
   ],
   "source": [
    "import pandas as pd\n",
    "from sklearn.model_selection import train_test_split\n",
    "from sklearn.feature_extraction.text import TfidfVectorizer\n",
    "from sklearn.linear_model import LogisticRegression\n",
    "from sklearn.metrics import accuracy_score\n",
    "data = pd.read_csv(\"data.csv\")\n",
    "\n",
    "X_train, X_test, y_train, y_test = train_test_split(data['review'], data['rating'], test_size=0.25, random_state=42)\n",
    "\n",
    "vectorizer = TfidfVectorizer()\n",
    "\n",
    "X_train_tfidf = vectorizer.fit_transform(X_train)\n",
    "\n",
    "X_test_tfidf = vectorizer.transform(X_test)\n",
    "\n",
    "classifier = LogisticRegression(max_iter=100)\n",
    "classifier.fit(X_train_tfidf, y_train)\n",
    "\n",
    "y_pred = classifier.predict(X_test_tfidf)\n",
    "\n",
    "accuracy = accuracy_score(y_test, y_pred)\n",
    "print(\"Accuracy:\", accuracy)\n"
   ]
  },
  {
   "cell_type": "code",
   "execution_count": 15,
   "metadata": {},
   "outputs": [
    {
     "name": "stdout",
     "output_type": "stream",
     "text": [
      "[3 3 5 3 4 3 1 5 3 3 3 3 3 3 3 4 3 3 3 2 3 3 5 3 3 3 3 5 3 3 3 3 3 3 5 3 3\n",
      " 3 3 2 3 3 3 2 3 3 1 3 3 3 3 1 3 3 1 5 3 3 3 3 4 3 3 3 3 1 3 3 4 3 1 3 3 3\n",
      " 2 3 3 3 2 3 3 3 3 1 3 3 3 1 3 3 3 3 3 5 1 1 3 3 4 3 3 3 3 3 4 3 3 1 3 2 3\n",
      " 3 3 2 3 3 3 3 3 3 3 3 3 3 2 2 3 5 3 3 1 3 3 3 4 3 4 1 3 3 3 5 5 3 3 2 3 5\n",
      " 5 3 3 3 5 3 5 3 3 3 3 3 3 3 3 3 5 3 5 3 3 3 5 5 3 3 3 1 3 4 3 3 2 4 3 3 3\n",
      " 5 3 3 3 2 2 3 4 1 3 3 3 3 5 3 5 3 3 3 4 3 3 3 3 3 3 5 5 2 5 3 3 1 1 3 3 3\n",
      " 3 2 4 2 2 4 2 3 3 3 3 3 5 4 5 3 3 3 3 3 3 3 3 3 3 3 4 5]\n"
     ]
    }
   ],
   "source": [
    "print(y_pred)"
   ]
  },
  {
   "cell_type": "code",
   "execution_count": 16,
   "metadata": {},
   "outputs": [],
   "source": [
    "# #Input\n",
    "\n",
    "# review=input('Enter the review: ')\n",
    "# review=vectorizer.transform([review])\n",
    "# rating=classifier.predict(review)\n",
    "# print('The rating of the review is:',rating[0])\n"
   ]
  },
  {
   "cell_type": "code",
   "execution_count": null,
   "metadata": {},
   "outputs": [],
   "source": []
  }
 ],
 "metadata": {
  "kernelspec": {
   "display_name": "Python 3",
   "language": "python",
   "name": "python3"
  },
  "language_info": {
   "codemirror_mode": {
    "name": "ipython",
    "version": 3
   },
   "file_extension": ".py",
   "mimetype": "text/x-python",
   "name": "python",
   "nbconvert_exporter": "python",
   "pygments_lexer": "ipython3",
   "version": "3.11.3"
  }
 },
 "nbformat": 4,
 "nbformat_minor": 2
}
